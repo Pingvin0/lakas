{
 "metadata": {
  "language_info": {
   "codemirror_mode": {
    "name": "ipython",
    "version": 3
   },
   "file_extension": ".py",
   "mimetype": "text/x-python",
   "name": "python",
   "nbconvert_exporter": "python",
   "pygments_lexer": "ipython3",
   "version": "3.8.2-final"
  },
  "orig_nbformat": 2,
  "kernelspec": {
   "name": "python38264bit1a51ceac83e641a6bc79067a0ed1a827",
   "display_name": "Python 3.8.2 64-bit"
  }
 },
 "nbformat": 4,
 "nbformat_minor": 2,
 "cells": [
  {
   "source": [
    "# Alaprajz beolvasás funkció\n",
    "2 dimenziós mátrixba olvassa az alaprjazot, majd azt visszaadja értékként."
   ],
   "cell_type": "markdown",
   "metadata": {}
  },
  {
   "cell_type": "code",
   "execution_count": 869,
   "metadata": {},
   "outputs": [],
   "source": [
    "def readPlan():\n",
    "    f = open('alaprajz.txt')\n",
    "    read = f.read()\n",
    "\n",
    "    matrix = [list(i) for i in read.strip().split('\\n')[1:]]\n",
    "    \n",
    "    return matrix"
   ]
  },
  {
   "source": [
    "# Kapcsolt elem megszámláló funkció"
   ],
   "cell_type": "markdown",
   "metadata": {}
  },
  {
   "cell_type": "code",
   "execution_count": 870,
   "metadata": {
    "tags": []
   },
   "outputs": [],
   "source": [
    "tracker = []\n",
    "def getConnectedCount(x,y,arr, look_for='1'):\n",
    "    if x<0 or y<0 or x>=len(arr[0]) or y>=len(arr): return False\n",
    "    if arr[y][x] != look_for: return False\n",
    "    global tracker\n",
    "    tracker += [[x,y]]\n",
    "\n",
    "    if ([x-1,y] not in tracker) and x-1 >=0:\n",
    "        getConnectedCount(x-1,y,arr, look_for=look_for)\n",
    "    if ([x+1,y] not in tracker) and x+1 < len(arr[0]):\n",
    "        getConnectedCount(x+1,y,arr, look_for=look_for)\n",
    "    if ([x,y-1] not in tracker) and y-1 >= 0:\n",
    "        getConnectedCount(x,y-1,arr, look_for=look_for)\n",
    "    if ([x,y+1] not in tracker) and y+1 < len(arr):\n",
    "        getConnectedCount(x,y+1,arr, look_for=look_for)\n",
    "    \n",
    "    return tracker"
   ]
  },
  {
   "source": [
    "# Térfoglalás kiszámítása (legkissebb téglalap/kockára)"
   ],
   "cell_type": "markdown",
   "metadata": {}
  },
  {
   "cell_type": "code",
   "execution_count": 871,
   "metadata": {},
   "outputs": [],
   "source": [
    "def getSpaceDimensions(space):\n",
    "    \"\"\"\n",
    "    Returns width,height\n",
    "    \"\"\"\n",
    "    width_arr = []\n",
    "    height_arr = []\n",
    "    for coord in space:\n",
    "        if coord[0] not in width_arr: width_arr += [coord[0]]\n",
    "        if coord[1] not in height_arr: height_arr += [coord[1]]\n",
    "    return len(width_arr),len(height_arr)\n",
    "    "
   ]
  },
  {
   "source": [
    "# Elemtípus érzékelése"
   ],
   "cell_type": "markdown",
   "metadata": {}
  },
  {
   "cell_type": "code",
   "execution_count": 872,
   "metadata": {},
   "outputs": [],
   "source": [
    "def detectType(space,plan):\n",
    "\n",
    "\n",
    "    width,height = getSpaceDimensions(space)\n",
    "    if height == len(plan):\n",
    "        if width == len(plan[0]):\n",
    "            return 'F'\n",
    "    \n",
    "    if len(space) == 1:\n",
    "        return 'S'\n",
    "    \n",
    "    if len(space) > 1:\n",
    "\n",
    "        if width == 1 or height == 1:\n",
    "            return 'K'\n",
    "        \n",
    "        if (width == 2 or height == 2) and not len(space) == width*height:\n",
    "            return 'K'\n",
    "\n",
    "    if len(space) == width*height:\n",
    "        return 'A'        \n",
    "    \n",
    "        \n",
    "    return '?'\n"
   ]
  },
  {
   "source": [
    "# Alaprajz kiíró funkció (kicseréli a 0-t .-al)\n"
   ],
   "cell_type": "markdown",
   "metadata": {}
  },
  {
   "cell_type": "code",
   "execution_count": 873,
   "metadata": {},
   "outputs": [],
   "source": [
    "def printPlan(planPrint):\n",
    "    for line in planPrint:\n",
    "        for char in line:\n",
    "            print(char.replace('0','.'), end='')\n",
    "        print('\\n', end='')\n"
   ]
  },
  {
   "source": [
    "# Helykicserélő funkció\n",
    "Bemenet\n",
    "* plan_l -- alaprajz mátrix\n",
    "* space -- koordinátákkal teli tömbb (pl: space = [[x,y], [x,y]])\n",
    "* r_with -- replace_with azaz ezzel cseréli ki\n",
    "\n",
    "Kimenet\n",
    "* alaprajz amiben már ki lett(ek) cserélve az elem(ek)"
   ],
   "cell_type": "markdown",
   "metadata": {}
  },
  {
   "cell_type": "code",
   "execution_count": 874,
   "metadata": {},
   "outputs": [],
   "source": [
    "def replaceInPlan(plan_l,space,r_with):\n",
    "    for i in space:\n",
    "        plan_l[i[1]][i[0]] = r_with\n",
    "    return plan_l"
   ]
  },
  {
   "source": [
    "# Fő logikai kód"
   ],
   "cell_type": "markdown",
   "metadata": {}
  },
  {
   "cell_type": "code",
   "execution_count": 875,
   "metadata": {
    "tags": []
   },
   "outputs": [
    {
     "output_type": "stream",
     "name": "stdout",
     "text": "FFFFFFFFFFFFFF\nF..F.F.......F\nF..F.F...S...F\nFFFF.........F\nF..F.K..AAA..F\nF..F.K..AAA..F\nF..F.K.......F\nF..F.K...S...F\nF..F.K.......F\nF..F.........F\nFFFFFFFFFFFFFF\n\n\nSzobák száma: 3\n"
    }
   ],
   "source": [
    "plan = readPlan()\n",
    "\n",
    "plan_copy = readPlan()\n",
    "\n",
    "for line_ind,line in enumerate(plan):\n",
    "    for char_ind,char in enumerate(line):\n",
    "        tracker = []\n",
    "        \n",
    "        if not getConnectedCount(char_ind, line_ind, plan):\n",
    "            continue\n",
    "\n",
    "        plan = replaceInPlan(plan, tracker, detectType(tracker, plan))\n",
    "\n",
    "tracker = []\n",
    "getConnectedCount(0, 0, plan_copy)\n",
    "plan_copy = replaceInPlan(plan_copy,tracker,'f')\n",
    "\n",
    "plan_copy = [[x.replace('1','0') for x in i] for i in plan_copy]\n",
    "\n",
    "szobak = []\n",
    "#szobák száma\n",
    "\n",
    "for line_ind,line in enumerate(plan_copy):\n",
    "    # Ha ide akarsz rakni kódot, a global trackert mindenképp ki kell ürítened.\n",
    "    for char_ind,char in enumerate(line):\n",
    "        \n",
    "\n",
    "        tracker = []\n",
    "\n",
    "        if not getConnectedCount(char_ind, line_ind, plan_copy, look_for='0'):\n",
    "            continue\n",
    "        else:\n",
    "            szobak += [tracker]\n",
    "            replaceInPlan(plan_copy, tracker, 'X')\n",
    "            \n",
    "\n",
    "\n",
    "\n",
    "\n",
    "\n",
    "printPlan(plan)\n",
    "print('\\n')\n",
    "print('Szobák száma:',len(szobak))\n"
   ]
  },
  {
   "source": [],
   "cell_type": "markdown",
   "metadata": {}
  }
 ]
}