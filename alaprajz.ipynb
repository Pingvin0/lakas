{
 "metadata": {
  "language_info": {
   "codemirror_mode": {
    "name": "ipython",
    "version": 3
   },
   "file_extension": ".py",
   "mimetype": "text/x-python",
   "name": "python",
   "nbconvert_exporter": "python",
   "pygments_lexer": "ipython3",
   "version": "3.8.2-final"
  },
  "orig_nbformat": 2,
  "kernelspec": {
   "name": "python38264bit1a51ceac83e641a6bc79067a0ed1a827",
   "display_name": "Python 3.8.2 64-bit"
  }
 },
 "nbformat": 4,
 "nbformat_minor": 2,
 "cells": [
  {
   "source": [
    "# Alaprajz beolvasás funkció\n",
    "2 dimenziós mátrixba olvassa az alaprjazot, majd azt visszaadja értékként."
   ],
   "cell_type": "markdown",
   "metadata": {}
  },
  {
   "cell_type": "code",
   "execution_count": 261,
   "metadata": {},
   "outputs": [],
   "source": [
    "def readPlan():\n",
    "    f = open('alaprajz.txt')\n",
    "    read = f.read()\n",
    "\n",
    "    matrix = [list(i) for i in read.strip().split('\\n')[1:]]\n",
    "    \n",
    "    return matrix"
   ]
  },
  {
   "source": [
    "# Kapcsolt elem megszámláló funkció"
   ],
   "cell_type": "markdown",
   "metadata": {}
  },
  {
   "cell_type": "code",
   "execution_count": 262,
   "metadata": {
    "tags": []
   },
   "outputs": [],
   "source": [
    "tracker = []\n",
    "def getConnectedCount(x,y,arr):\n",
    "    if x<0 or y<0 or x>=len(arr[0]) or y>=len(arr): return False\n",
    "    if arr[y][x] != '1': return False\n",
    "    global tracker\n",
    "    tracker += [[x,y]]\n",
    "\n",
    "\n",
    "    if [x-1,y] not in tracker:\n",
    "        count1 = getConnectedCount(x-1,y,arr)\n",
    "    if [x+1,y] not in tracker:\n",
    "        count2 = getConnectedCount(x+1,y,arr)\n",
    "    if [x,y-1] not in tracker:\n",
    "        count3 = getConnectedCount(x,y-1,arr)\n",
    "    if [x,y+1] not in tracker:\n",
    "        count4 = getConnectedCount(x,y+1,arr)\n",
    "    \n",
    "    return tracker"
   ]
  },
  {
   "cell_type": "code",
   "execution_count": 263,
   "metadata": {},
   "outputs": [],
   "source": [
    "def getSpaceDimensions(space):\n",
    "    \"\"\"\n",
    "    Returns width,height\n",
    "    \"\"\"\n",
    "    width_arr = []\n",
    "    height_arr = []\n",
    "    for coord in space:\n",
    "        if coord[0] not in width_arr: width_arr += [coord[0]]\n",
    "        if coord[1] not in height_arr: height_arr += [coord[1]]\n",
    "    return len(width_arr),len(height_arr)\n",
    "    "
   ]
  },
  {
   "cell_type": "code",
   "execution_count": 264,
   "metadata": {},
   "outputs": [],
   "source": [
    "def detectType(space,plan):\n",
    "\n",
    "\n",
    "    width,height = getSpaceDimensions(space)\n",
    "\n",
    "    print(f'hossz: {width} | magasság: {height} | helyfoglalás: {len(space)}')\n",
    "    if height == len(plan):\n",
    "        if width == len(plan[0]):\n",
    "            return 'F'\n",
    "    \n",
    "    if len(space) == 1:\n",
    "        return 'S'\n",
    "    \n",
    "    if len(space) > 1:\n",
    "\n",
    "        if width == 1 or height == 1:\n",
    "            return 'K'\n",
    "        \n",
    "        if (width == 2 or height == 2) and not len(space) == width*height:\n",
    "            return 'K'\n",
    "            \n",
    "    \n",
    "        \n",
    "    return '?'\n"
   ]
  },
  {
   "cell_type": "code",
   "execution_count": 265,
   "metadata": {},
   "outputs": [],
   "source": [
    "def printPlan(plan):\n",
    "    for line in plan:\n",
    "        for char in line:\n",
    "            print(char.replace('0','.'), end='')\n",
    "        print('\\n', end='')\n"
   ]
  },
  {
   "cell_type": "code",
   "execution_count": 266,
   "metadata": {},
   "outputs": [],
   "source": [
    "def replaceInPlan(plan,space,r_with):\n",
    "    for i in space:\n",
    "        plan[i[1]][i[0]] = r_with\n",
    "    return plan"
   ]
  },
  {
   "cell_type": "code",
   "execution_count": 267,
   "metadata": {
    "tags": []
   },
   "outputs": [
    {
     "output_type": "stream",
     "name": "stdout",
     "text": "[[0, 0], [1, 0], [2, 0], [3, 0], [4, 0], [5, 0], [6, 0], [7, 0], [8, 0], [9, 0], [10, 0], [10, 1], [10, 2], [10, 3], [10, 4], [10, 5], [10, 6], [10, 7], [10, 8], [10, 9], [10, 10], [10, 11], [10, 12], [10, 13], [9, 13], [8, 13], [7, 13], [6, 13], [5, 13], [4, 13], [3, 13], [2, 13], [1, 13], [0, 13], [0, 12], [0, 11], [0, 10], [0, 9], [0, 8], [0, 7], [1, 7], [2, 7], [0, 6], [0, 5], [0, 4], [0, 3], [0, 2], [0, 1], [6, 12], [6, 11], [6, 10], [6, 9], [6, 8], [6, 7], [6, 6], [6, 5], [6, 4], [6, 3], [6, 2], [6, 1]]\nhossz: 11 | magasság: 14 | helyfoglalás: 60\n[[2, 2], [3, 2], [2, 3], [2, 4], [2, 5]]\nhossz: 2 | magasság: 4 | helyfoglalás: 5\nhely: 5 | width*height=8)\n[[8, 2], [8, 3], [8, 4], [8, 5], [8, 6]]\nhossz: 1 | magasság: 5 | helyfoglalás: 5\n[[4, 5]]\nhossz: 1 | magasság: 1 | helyfoglalás: 1\n[[2, 9], [3, 9], [3, 10], [2, 10], [2, 11], [3, 11]]\nhossz: 2 | magasság: 3 | helyfoglalás: 6\nÚj:\nFFFFFFFFFFF\nF.....F...F\nF.KK..F.K.F\nF.K...F.K.F\nF.K...F.K.F\nF.K.S.F.K.F\nF.....F.K.F\nFFF...F...F\nF.....F...F\nF.??..F...F\nF.??..F...F\nF.??..F...F\nF.....F...F\nFFFFFFFFFFF\n"
    }
   ],
   "source": [
    "plan = readPlan()\n",
    "\n",
    "\n",
    "for line_ind,line in enumerate(plan):\n",
    "    for char_ind,char in enumerate(line):\n",
    "        tracker = []\n",
    "        \n",
    "        if not getConnectedCount(char_ind, line_ind, plan):\n",
    "            continue\n",
    "        print(tracker)\n",
    "        plan = replaceInPlan(plan, tracker, detectType(tracker, plan))\n",
    "\n",
    "print('Új:')\n",
    "printPlan(plan)\n",
    "\n",
    "\n"
   ]
  },
  {
   "cell_type": "code",
   "execution_count": 268,
   "metadata": {
    "tags": []
   },
   "outputs": [
    {
     "output_type": "stream",
     "name": "stdout",
     "text": "3000\n"
    }
   ],
   "source": [
    "import sys\n",
    "print(sys.getrecursionlimit())"
   ]
  },
  {
   "source": [],
   "cell_type": "markdown",
   "metadata": {}
  }
 ]
}